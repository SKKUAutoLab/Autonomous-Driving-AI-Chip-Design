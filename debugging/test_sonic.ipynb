{
 "cells": [
  {
   "cell_type": "markdown",
   "id": "5f525646",
   "metadata": {},
   "source": [
    "### Ultrasonic sensor test example ###"
   ]
  },
  {
   "cell_type": "code",
   "execution_count": null,
   "id": "e890225b",
   "metadata": {},
   "outputs": [],
   "source": [
    "import time\n",
    "from IPython.display import clear_output\n",
    "\n",
    "sonic = overlay.sonic_mm_0.mmio   # Create an object for MMIO access to the ultrasonic sensor\n",
    "sonic_base_addr = sonic.base_addr # Assign the base address of the ultrasonic sensor object\n",
    "\n",
    "try :\n",
    "    while True :\n",
    "        val0 = sonic.read(0x0)\n",
    "        val1 = sonic.read(0x4)\n",
    "        val2 = sonic.read(0x8)\n",
    "        val3 = sonic.read(0xc)\n",
    "        val4 = sonic.read(0x10)\n",
    "        \n",
    "        print(\"val0 :\",(val0))\n",
    "        print(\"val1 :\",(val1))\n",
    "        print(\"val2 :\",(val2))\n",
    "        print(\"val3 :\",(val3))\n",
    "        print(\"val4 :\",(val4))\n",
    "        \n",
    "        time.sleep(0.1)\n",
    "        clear_output(wait=True)\n",
    "except KeyboardInterrupt:\n",
    "    print(\"Interrupt detected, shutting down gracefully...\")\n",
    "    \n",
    "print(\"done\")"
   ]
  }
 ],
 "metadata": {
  "kernelspec": {
   "display_name": "Python 3",
   "language": "python",
   "name": "python3"
  },
  "language_info": {
   "codemirror_mode": {
    "name": "ipython",
    "version": 3
   },
   "file_extension": ".py",
   "mimetype": "text/x-python",
   "name": "python",
   "nbconvert_exporter": "python",
   "pygments_lexer": "ipython3",
   "version": "3.11.9"
  }
 },
 "nbformat": 4,
 "nbformat_minor": 5
}
